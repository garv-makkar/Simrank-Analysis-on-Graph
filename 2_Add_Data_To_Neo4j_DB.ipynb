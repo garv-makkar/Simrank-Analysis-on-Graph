{
 "cells": [
  {
   "cell_type": "code",
   "execution_count": 6,
   "metadata": {},
   "outputs": [
    {
     "name": "stderr",
     "output_type": "stream",
     "text": [
      "\n",
      "[notice] A new release of pip is available: 24.0 -> 24.3.1\n",
      "[notice] To update, run: python.exe -m pip install --upgrade pip\n"
     ]
    }
   ],
   "source": [
    "!pip install neo4j -q"
   ]
  },
  {
   "cell_type": "code",
   "execution_count": 9,
   "metadata": {},
   "outputs": [],
   "source": [
    "import json\n",
    "\n",
    "# Read JSON data\n",
    "data = []\n",
    "with open('train.json') as f:\n",
    "    for line in f:\n",
    "        try:\n",
    "            json_object = json.loads(line)\n",
    "            data.append(json_object)\n",
    "        except json.JSONDecodeError:\n",
    "            print(\"Error decoding JSON on line:\", line)\n"
   ]
  },
  {
   "cell_type": "code",
   "execution_count": 10,
   "metadata": {},
   "outputs": [
    {
     "name": "stdout",
     "output_type": "stream",
     "text": [
      "564340\n"
     ]
    }
   ],
   "source": [
    "print(len(data))"
   ]
  },
  {
   "cell_type": "code",
   "execution_count": 11,
   "metadata": {},
   "outputs": [],
   "source": [
    "from neo4j import GraphDatabase\n",
    "from tqdm import tqdm\n",
    "\n",
    "# Neo4j Connection\n",
    "URI = \"bolt://localhost:7687\"\n",
    "AUTH = (\"neo4j\", \"Garv@neo4j10\")\n",
    "\n",
    "# Define a function to create nodes and edges in Neo4j\n",
    "def create_citation_graph(driver, data):\n",
    "    with driver.session() as session:\n",
    "        # Create constraints to ensure uniqueness for 'paper' nodes\n",
    "        session.run(\"CREATE CONSTRAINT IF NOT EXISTS FOR (p:Paper) REQUIRE p.id IS UNIQUE\")\n",
    "\n",
    "        # Process each paper entry with progress bar\n",
    "        for entry in tqdm(data, desc=\"Processing citations\", unit=\"paper\"):\n",
    "            paper_id = entry[\"paper\"]\n",
    "            references = entry[\"reference\"]\n",
    "\n",
    "            # Create the citing paper node\n",
    "            session.run(\"MERGE (p:Paper {id: $paper_id})\", paper_id=paper_id)\n",
    "\n",
    "            # Create citation relationships\n",
    "            for ref_id in references:\n",
    "                session.run(\"\"\"\n",
    "                    MERGE (ref:Paper {id: $ref_id})\n",
    "                    MERGE (p:Paper {id: $paper_id})\n",
    "                    MERGE (p)-[:CITES]->(ref)\n",
    "                \"\"\", paper_id=paper_id, ref_id=ref_id)"
   ]
  },
  {
   "cell_type": "code",
   "execution_count": 12,
   "metadata": {},
   "outputs": [
    {
     "name": "stderr",
     "output_type": "stream",
     "text": [
      "Processing citations: 100%|██████████| 564340/564340 [1:58:25<00:00, 79.42paper/s]  \n"
     ]
    },
    {
     "name": "stdout",
     "output_type": "stream",
     "text": [
      "Citation graph created successfully!\n"
     ]
    }
   ],
   "source": [
    "# Connect to Neo4j and create the graph\n",
    "with GraphDatabase.driver(URI, auth=AUTH) as driver:\n",
    "    driver.verify_connectivity()\n",
    "    create_citation_graph(driver, data)\n",
    "\n",
    "print(\"Citation graph created successfully!\")"
   ]
  }
 ],
 "metadata": {
  "kernelspec": {
   "display_name": "bdavenv",
   "language": "python",
   "name": "python3"
  },
  "language_info": {
   "codemirror_mode": {
    "name": "ipython",
    "version": 3
   },
   "file_extension": ".py",
   "mimetype": "text/x-python",
   "name": "python",
   "nbconvert_exporter": "python",
   "pygments_lexer": "ipython3",
   "version": "3.12.3"
  }
 },
 "nbformat": 4,
 "nbformat_minor": 2
}
